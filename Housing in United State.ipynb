{
 "cells": [
  {
   "cell_type": "markdown",
   "id": "c7199a46-6c16-4323-a8bc-1a9581ad5670",
   "metadata": {},
   "source": [
    "Housing in United State\n",
    "\n",
    "Aim of the project\n",
    "1. To determine whether sales price are influenced more by property size and/or location\n",
    "\n",
    "Objectives\n",
    "1. To determine which state has the most expensive real estate market\n",
    "2. To determine if there is a relationship between home size and price"
   ]
  },
  {
   "cell_type": "code",
   "execution_count": 8,
   "id": "ae81d1e5-a21c-42f3-87c9-c0838a365c6a",
   "metadata": {},
   "outputs": [],
   "source": [
    "#Import Libraries\n",
    "import pandas as pd\n",
    "\n",
    "import matplotlib.pyplot as plt\n",
    "import numpy as np\n",
    "import seaborn as sns"
   ]
  },
  {
   "cell_type": "code",
   "execution_count": 9,
   "id": "41b15cde-293d-43b1-abc3-197dcf590ec5",
   "metadata": {},
   "outputs": [],
   "source": [
    "#Import Data\n",
    "df = pd.read_csv(\"data/realtor-data.csv\")"
   ]
  },
  {
   "cell_type": "code",
   "execution_count": 10,
   "id": "29c5b03e-feb9-43cb-8e3b-d4012202aaba",
   "metadata": {},
   "outputs": [
    {
     "name": "stdout",
     "output_type": "stream",
     "text": [
      "<class 'pandas.core.frame.DataFrame'>\n",
      "RangeIndex: 2226382 entries, 0 to 2226381\n",
      "Data columns (total 12 columns):\n",
      " #   Column          Dtype  \n",
      "---  ------          -----  \n",
      " 0   brokered_by     float64\n",
      " 1   status          object \n",
      " 2   price           float64\n",
      " 3   bed             float64\n",
      " 4   bath            float64\n",
      " 5   acre_lot        float64\n",
      " 6   street          float64\n",
      " 7   city            object \n",
      " 8   state           object \n",
      " 9   zip_code        float64\n",
      " 10  house_size      float64\n",
      " 11  prev_sold_date  object \n",
      "dtypes: float64(8), object(4)\n",
      "memory usage: 203.8+ MB\n"
     ]
    }
   ],
   "source": [
    "#Inspect DataFrame\n",
    "df.info()"
   ]
  },
  {
   "cell_type": "code",
   "execution_count": 11,
   "id": "3173790a-2ed0-4f84-9171-becf471d5bbe",
   "metadata": {},
   "outputs": [
    {
     "data": {
      "text/html": [
       "<div>\n",
       "<style scoped>\n",
       "    .dataframe tbody tr th:only-of-type {\n",
       "        vertical-align: middle;\n",
       "    }\n",
       "\n",
       "    .dataframe tbody tr th {\n",
       "        vertical-align: top;\n",
       "    }\n",
       "\n",
       "    .dataframe thead th {\n",
       "        text-align: right;\n",
       "    }\n",
       "</style>\n",
       "<table border=\"1\" class=\"dataframe\">\n",
       "  <thead>\n",
       "    <tr style=\"text-align: right;\">\n",
       "      <th></th>\n",
       "      <th>brokered_by</th>\n",
       "      <th>status</th>\n",
       "      <th>price</th>\n",
       "      <th>bed</th>\n",
       "      <th>bath</th>\n",
       "      <th>acre_lot</th>\n",
       "      <th>street</th>\n",
       "      <th>city</th>\n",
       "      <th>state</th>\n",
       "      <th>zip_code</th>\n",
       "      <th>house_size</th>\n",
       "      <th>prev_sold_date</th>\n",
       "    </tr>\n",
       "  </thead>\n",
       "  <tbody>\n",
       "    <tr>\n",
       "      <th>0</th>\n",
       "      <td>103378.0</td>\n",
       "      <td>for_sale</td>\n",
       "      <td>105000.0</td>\n",
       "      <td>3.0</td>\n",
       "      <td>2.0</td>\n",
       "      <td>0.12</td>\n",
       "      <td>1962661.0</td>\n",
       "      <td>Adjuntas</td>\n",
       "      <td>Puerto Rico</td>\n",
       "      <td>601.0</td>\n",
       "      <td>920.0</td>\n",
       "      <td>NaN</td>\n",
       "    </tr>\n",
       "    <tr>\n",
       "      <th>1</th>\n",
       "      <td>52707.0</td>\n",
       "      <td>for_sale</td>\n",
       "      <td>80000.0</td>\n",
       "      <td>4.0</td>\n",
       "      <td>2.0</td>\n",
       "      <td>0.08</td>\n",
       "      <td>1902874.0</td>\n",
       "      <td>Adjuntas</td>\n",
       "      <td>Puerto Rico</td>\n",
       "      <td>601.0</td>\n",
       "      <td>1527.0</td>\n",
       "      <td>NaN</td>\n",
       "    </tr>\n",
       "    <tr>\n",
       "      <th>2</th>\n",
       "      <td>103379.0</td>\n",
       "      <td>for_sale</td>\n",
       "      <td>67000.0</td>\n",
       "      <td>2.0</td>\n",
       "      <td>1.0</td>\n",
       "      <td>0.15</td>\n",
       "      <td>1404990.0</td>\n",
       "      <td>Juana Diaz</td>\n",
       "      <td>Puerto Rico</td>\n",
       "      <td>795.0</td>\n",
       "      <td>748.0</td>\n",
       "      <td>NaN</td>\n",
       "    </tr>\n",
       "    <tr>\n",
       "      <th>3</th>\n",
       "      <td>31239.0</td>\n",
       "      <td>for_sale</td>\n",
       "      <td>145000.0</td>\n",
       "      <td>4.0</td>\n",
       "      <td>2.0</td>\n",
       "      <td>0.10</td>\n",
       "      <td>1947675.0</td>\n",
       "      <td>Ponce</td>\n",
       "      <td>Puerto Rico</td>\n",
       "      <td>731.0</td>\n",
       "      <td>1800.0</td>\n",
       "      <td>NaN</td>\n",
       "    </tr>\n",
       "    <tr>\n",
       "      <th>4</th>\n",
       "      <td>34632.0</td>\n",
       "      <td>for_sale</td>\n",
       "      <td>65000.0</td>\n",
       "      <td>6.0</td>\n",
       "      <td>2.0</td>\n",
       "      <td>0.05</td>\n",
       "      <td>331151.0</td>\n",
       "      <td>Mayaguez</td>\n",
       "      <td>Puerto Rico</td>\n",
       "      <td>680.0</td>\n",
       "      <td>NaN</td>\n",
       "      <td>NaN</td>\n",
       "    </tr>\n",
       "  </tbody>\n",
       "</table>\n",
       "</div>"
      ],
      "text/plain": [
       "   brokered_by    status     price  bed  bath  acre_lot     street  \\\n",
       "0     103378.0  for_sale  105000.0  3.0   2.0      0.12  1962661.0   \n",
       "1      52707.0  for_sale   80000.0  4.0   2.0      0.08  1902874.0   \n",
       "2     103379.0  for_sale   67000.0  2.0   1.0      0.15  1404990.0   \n",
       "3      31239.0  for_sale  145000.0  4.0   2.0      0.10  1947675.0   \n",
       "4      34632.0  for_sale   65000.0  6.0   2.0      0.05   331151.0   \n",
       "\n",
       "         city        state  zip_code  house_size prev_sold_date  \n",
       "0    Adjuntas  Puerto Rico     601.0       920.0            NaN  \n",
       "1    Adjuntas  Puerto Rico     601.0      1527.0            NaN  \n",
       "2  Juana Diaz  Puerto Rico     795.0       748.0            NaN  \n",
       "3       Ponce  Puerto Rico     731.0      1800.0            NaN  \n",
       "4    Mayaguez  Puerto Rico     680.0         NaN            NaN  "
      ]
     },
     "execution_count": 11,
     "metadata": {},
     "output_type": "execute_result"
    }
   ],
   "source": [
    "df.head()"
   ]
  },
  {
   "cell_type": "markdown",
   "id": "ba8bab97-b53e-4500-b99b-cd2098ec151b",
   "metadata": {},
   "source": [
    "Cleaning the dataset, inorder to determine if sale prices are influenced more by property size or location\n",
    "i would be picking relevant columns and dropping others"
   ]
  },
  {
   "cell_type": "code",
   "execution_count": 12,
   "id": "4c128f07-5d62-4d22-acac-79b1da02cad0",
   "metadata": {},
   "outputs": [],
   "source": [
    "df.drop(columns=[\"brokered_by\", \"status\", \"street\", \"city\", \"zip_code\", \"prev_sold_date\", \"bed\", \"bath\"], inplace=True)"
   ]
  },
  {
   "cell_type": "code",
   "execution_count": 13,
   "id": "95991ab0-0c87-4ea0-8ac8-6f2754c27ce4",
   "metadata": {},
   "outputs": [
    {
     "data": {
      "text/html": [
       "<div>\n",
       "<style scoped>\n",
       "    .dataframe tbody tr th:only-of-type {\n",
       "        vertical-align: middle;\n",
       "    }\n",
       "\n",
       "    .dataframe tbody tr th {\n",
       "        vertical-align: top;\n",
       "    }\n",
       "\n",
       "    .dataframe thead th {\n",
       "        text-align: right;\n",
       "    }\n",
       "</style>\n",
       "<table border=\"1\" class=\"dataframe\">\n",
       "  <thead>\n",
       "    <tr style=\"text-align: right;\">\n",
       "      <th></th>\n",
       "      <th>price</th>\n",
       "      <th>acre_lot</th>\n",
       "      <th>state</th>\n",
       "      <th>house_size</th>\n",
       "    </tr>\n",
       "  </thead>\n",
       "  <tbody>\n",
       "    <tr>\n",
       "      <th>0</th>\n",
       "      <td>105000.0</td>\n",
       "      <td>0.12</td>\n",
       "      <td>Puerto Rico</td>\n",
       "      <td>920.0</td>\n",
       "    </tr>\n",
       "    <tr>\n",
       "      <th>1</th>\n",
       "      <td>80000.0</td>\n",
       "      <td>0.08</td>\n",
       "      <td>Puerto Rico</td>\n",
       "      <td>1527.0</td>\n",
       "    </tr>\n",
       "    <tr>\n",
       "      <th>2</th>\n",
       "      <td>67000.0</td>\n",
       "      <td>0.15</td>\n",
       "      <td>Puerto Rico</td>\n",
       "      <td>748.0</td>\n",
       "    </tr>\n",
       "    <tr>\n",
       "      <th>3</th>\n",
       "      <td>145000.0</td>\n",
       "      <td>0.10</td>\n",
       "      <td>Puerto Rico</td>\n",
       "      <td>1800.0</td>\n",
       "    </tr>\n",
       "    <tr>\n",
       "      <th>4</th>\n",
       "      <td>65000.0</td>\n",
       "      <td>0.05</td>\n",
       "      <td>Puerto Rico</td>\n",
       "      <td>NaN</td>\n",
       "    </tr>\n",
       "  </tbody>\n",
       "</table>\n",
       "</div>"
      ],
      "text/plain": [
       "      price  acre_lot        state  house_size\n",
       "0  105000.0      0.12  Puerto Rico       920.0\n",
       "1   80000.0      0.08  Puerto Rico      1527.0\n",
       "2   67000.0      0.15  Puerto Rico       748.0\n",
       "3  145000.0      0.10  Puerto Rico      1800.0\n",
       "4   65000.0      0.05  Puerto Rico         NaN"
      ]
     },
     "execution_count": 13,
     "metadata": {},
     "output_type": "execute_result"
    }
   ],
   "source": [
    "df.head()"
   ]
  },
  {
   "cell_type": "markdown",
   "id": "f326f5fa-7078-4bea-90aa-e3a8ec3d4779",
   "metadata": {},
   "source": [
    "looking at the dataset i have now, there seem to be two conflicting colums which are \"acre_lot\" and \"house_size\".\n",
    "so in order to determine which of them is relevant to my goal i would be checking thier correlation with price."
   ]
  },
  {
   "cell_type": "code",
   "execution_count": 14,
   "id": "56141c9a-e18d-48f9-b688-d4b4ced4e875",
   "metadata": {},
   "outputs": [
    {
     "data": {
      "text/plain": [
       "0.01616566777370421"
      ]
     },
     "execution_count": 14,
     "metadata": {},
     "output_type": "execute_result"
    }
   ],
   "source": [
    "df[\"price\"].corr(df[\"acre_lot\"])"
   ]
  },
  {
   "cell_type": "code",
   "execution_count": 15,
   "id": "36d17b66-6a44-4c0b-a9e4-016101d68293",
   "metadata": {},
   "outputs": [
    {
     "data": {
      "text/plain": [
       "0.0002540961460627248"
      ]
     },
     "execution_count": 15,
     "metadata": {},
     "output_type": "execute_result"
    }
   ],
   "source": [
    "df[\"price\"].corr(df[\"house_size\"])"
   ]
  },
  {
   "cell_type": "markdown",
   "id": "a3761aeb-a4a0-4644-8d17-b1cea86b5a69",
   "metadata": {},
   "source": [
    "From the results above it can be seen that there seem to be a correlation between \"price\" and \"acre_lot\" than that of \"price\" and \"house_size\". so i would be dropping \"house_size\""
   ]
  },
  {
   "cell_type": "code",
   "execution_count": 16,
   "id": "b4710c7f-f68c-49ee-a3f2-8813a1452622",
   "metadata": {},
   "outputs": [],
   "source": [
    "df.drop(columns=[\"house_size\"], inplace=True)"
   ]
  },
  {
   "cell_type": "markdown",
   "id": "10e683fa-d658-4ce9-921c-8d69c3330292",
   "metadata": {},
   "source": [
    "now i proceed to dropping NAN values before proceeding to further cleaning"
   ]
  },
  {
   "cell_type": "code",
   "execution_count": 17,
   "id": "1c7b48b7-17ca-457f-afd5-3cb7ed4dffc0",
   "metadata": {},
   "outputs": [
    {
     "data": {
      "text/html": [
       "<div>\n",
       "<style scoped>\n",
       "    .dataframe tbody tr th:only-of-type {\n",
       "        vertical-align: middle;\n",
       "    }\n",
       "\n",
       "    .dataframe tbody tr th {\n",
       "        vertical-align: top;\n",
       "    }\n",
       "\n",
       "    .dataframe thead th {\n",
       "        text-align: right;\n",
       "    }\n",
       "</style>\n",
       "<table border=\"1\" class=\"dataframe\">\n",
       "  <thead>\n",
       "    <tr style=\"text-align: right;\">\n",
       "      <th></th>\n",
       "      <th>price</th>\n",
       "      <th>acre_lot</th>\n",
       "      <th>state</th>\n",
       "    </tr>\n",
       "  </thead>\n",
       "  <tbody>\n",
       "    <tr>\n",
       "      <th>0</th>\n",
       "      <td>105000.0</td>\n",
       "      <td>0.12</td>\n",
       "      <td>Puerto Rico</td>\n",
       "    </tr>\n",
       "    <tr>\n",
       "      <th>1</th>\n",
       "      <td>80000.0</td>\n",
       "      <td>0.08</td>\n",
       "      <td>Puerto Rico</td>\n",
       "    </tr>\n",
       "    <tr>\n",
       "      <th>2</th>\n",
       "      <td>67000.0</td>\n",
       "      <td>0.15</td>\n",
       "      <td>Puerto Rico</td>\n",
       "    </tr>\n",
       "    <tr>\n",
       "      <th>3</th>\n",
       "      <td>145000.0</td>\n",
       "      <td>0.10</td>\n",
       "      <td>Puerto Rico</td>\n",
       "    </tr>\n",
       "    <tr>\n",
       "      <th>4</th>\n",
       "      <td>65000.0</td>\n",
       "      <td>0.05</td>\n",
       "      <td>Puerto Rico</td>\n",
       "    </tr>\n",
       "  </tbody>\n",
       "</table>\n",
       "</div>"
      ],
      "text/plain": [
       "      price  acre_lot        state\n",
       "0  105000.0      0.12  Puerto Rico\n",
       "1   80000.0      0.08  Puerto Rico\n",
       "2   67000.0      0.15  Puerto Rico\n",
       "3  145000.0      0.10  Puerto Rico\n",
       "4   65000.0      0.05  Puerto Rico"
      ]
     },
     "execution_count": 17,
     "metadata": {},
     "output_type": "execute_result"
    }
   ],
   "source": [
    "df.dropna(how=\"any\", inplace=True)\n",
    "df.head()"
   ]
  },
  {
   "cell_type": "markdown",
   "id": "18a6ebc0-42e8-424d-a72f-885e501b35ef",
   "metadata": {},
   "source": [
    "assigning price to the variable name price_in_USD and converting the dtype to int"
   ]
  },
  {
   "cell_type": "code",
   "execution_count": 18,
   "id": "d90a03e2-d065-43f2-9041-20f69572b13b",
   "metadata": {},
   "outputs": [],
   "source": [
    "df[\"price_in_USD\"] = df[\"price\"].astype(int)"
   ]
  },
  {
   "cell_type": "code",
   "execution_count": 19,
   "id": "d440fd3a-1b65-45fb-b497-826f074e990e",
   "metadata": {},
   "outputs": [
    {
     "data": {
      "text/html": [
       "<div>\n",
       "<style scoped>\n",
       "    .dataframe tbody tr th:only-of-type {\n",
       "        vertical-align: middle;\n",
       "    }\n",
       "\n",
       "    .dataframe tbody tr th {\n",
       "        vertical-align: top;\n",
       "    }\n",
       "\n",
       "    .dataframe thead th {\n",
       "        text-align: right;\n",
       "    }\n",
       "</style>\n",
       "<table border=\"1\" class=\"dataframe\">\n",
       "  <thead>\n",
       "    <tr style=\"text-align: right;\">\n",
       "      <th></th>\n",
       "      <th>price</th>\n",
       "      <th>acre_lot</th>\n",
       "      <th>state</th>\n",
       "      <th>price_in_USD</th>\n",
       "    </tr>\n",
       "  </thead>\n",
       "  <tbody>\n",
       "    <tr>\n",
       "      <th>0</th>\n",
       "      <td>105000.0</td>\n",
       "      <td>0.12</td>\n",
       "      <td>Puerto Rico</td>\n",
       "      <td>105000</td>\n",
       "    </tr>\n",
       "    <tr>\n",
       "      <th>1</th>\n",
       "      <td>80000.0</td>\n",
       "      <td>0.08</td>\n",
       "      <td>Puerto Rico</td>\n",
       "      <td>80000</td>\n",
       "    </tr>\n",
       "    <tr>\n",
       "      <th>2</th>\n",
       "      <td>67000.0</td>\n",
       "      <td>0.15</td>\n",
       "      <td>Puerto Rico</td>\n",
       "      <td>67000</td>\n",
       "    </tr>\n",
       "    <tr>\n",
       "      <th>3</th>\n",
       "      <td>145000.0</td>\n",
       "      <td>0.10</td>\n",
       "      <td>Puerto Rico</td>\n",
       "      <td>145000</td>\n",
       "    </tr>\n",
       "    <tr>\n",
       "      <th>4</th>\n",
       "      <td>65000.0</td>\n",
       "      <td>0.05</td>\n",
       "      <td>Puerto Rico</td>\n",
       "      <td>65000</td>\n",
       "    </tr>\n",
       "    <tr>\n",
       "      <th>...</th>\n",
       "      <td>...</td>\n",
       "      <td>...</td>\n",
       "      <td>...</td>\n",
       "      <td>...</td>\n",
       "    </tr>\n",
       "    <tr>\n",
       "      <th>2226377</th>\n",
       "      <td>359900.0</td>\n",
       "      <td>0.33</td>\n",
       "      <td>Washington</td>\n",
       "      <td>359900</td>\n",
       "    </tr>\n",
       "    <tr>\n",
       "      <th>2226378</th>\n",
       "      <td>350000.0</td>\n",
       "      <td>0.10</td>\n",
       "      <td>Washington</td>\n",
       "      <td>350000</td>\n",
       "    </tr>\n",
       "    <tr>\n",
       "      <th>2226379</th>\n",
       "      <td>440000.0</td>\n",
       "      <td>0.50</td>\n",
       "      <td>Washington</td>\n",
       "      <td>440000</td>\n",
       "    </tr>\n",
       "    <tr>\n",
       "      <th>2226380</th>\n",
       "      <td>179900.0</td>\n",
       "      <td>0.09</td>\n",
       "      <td>Washington</td>\n",
       "      <td>179900</td>\n",
       "    </tr>\n",
       "    <tr>\n",
       "      <th>2226381</th>\n",
       "      <td>580000.0</td>\n",
       "      <td>0.31</td>\n",
       "      <td>Washington</td>\n",
       "      <td>580000</td>\n",
       "    </tr>\n",
       "  </tbody>\n",
       "</table>\n",
       "<p>1899699 rows × 4 columns</p>\n",
       "</div>"
      ],
      "text/plain": [
       "            price  acre_lot        state  price_in_USD\n",
       "0        105000.0      0.12  Puerto Rico        105000\n",
       "1         80000.0      0.08  Puerto Rico         80000\n",
       "2         67000.0      0.15  Puerto Rico         67000\n",
       "3        145000.0      0.10  Puerto Rico        145000\n",
       "4         65000.0      0.05  Puerto Rico         65000\n",
       "...           ...       ...          ...           ...\n",
       "2226377  359900.0      0.33   Washington        359900\n",
       "2226378  350000.0      0.10   Washington        350000\n",
       "2226379  440000.0      0.50   Washington        440000\n",
       "2226380  179900.0      0.09   Washington        179900\n",
       "2226381  580000.0      0.31   Washington        580000\n",
       "\n",
       "[1899699 rows x 4 columns]"
      ]
     },
     "execution_count": 19,
     "metadata": {},
     "output_type": "execute_result"
    }
   ],
   "source": [
    "df"
   ]
  },
  {
   "cell_type": "markdown",
   "id": "62c56e64-6b75-4d65-8fb1-d9ac30853b5d",
   "metadata": {},
   "source": [
    "converting acre_lot to m2 and assigning it the variable \"area_in_m2\""
   ]
  },
  {
   "cell_type": "code",
   "execution_count": 20,
   "id": "20ed5095-6f9b-42ce-b7e2-389579a986cd",
   "metadata": {},
   "outputs": [],
   "source": [
    "df[\"area_in_m2\"] = (df[\"acre_lot\"] * 4_046.86).astype(int)"
   ]
  },
  {
   "cell_type": "code",
   "execution_count": 21,
   "id": "42621c0c-9871-444c-b962-14d6fe7003da",
   "metadata": {},
   "outputs": [
    {
     "data": {
      "text/html": [
       "<div>\n",
       "<style scoped>\n",
       "    .dataframe tbody tr th:only-of-type {\n",
       "        vertical-align: middle;\n",
       "    }\n",
       "\n",
       "    .dataframe tbody tr th {\n",
       "        vertical-align: top;\n",
       "    }\n",
       "\n",
       "    .dataframe thead th {\n",
       "        text-align: right;\n",
       "    }\n",
       "</style>\n",
       "<table border=\"1\" class=\"dataframe\">\n",
       "  <thead>\n",
       "    <tr style=\"text-align: right;\">\n",
       "      <th></th>\n",
       "      <th>price</th>\n",
       "      <th>acre_lot</th>\n",
       "      <th>state</th>\n",
       "      <th>price_in_USD</th>\n",
       "      <th>area_in_m2</th>\n",
       "    </tr>\n",
       "  </thead>\n",
       "  <tbody>\n",
       "    <tr>\n",
       "      <th>0</th>\n",
       "      <td>105000.0</td>\n",
       "      <td>0.12</td>\n",
       "      <td>Puerto Rico</td>\n",
       "      <td>105000</td>\n",
       "      <td>485</td>\n",
       "    </tr>\n",
       "    <tr>\n",
       "      <th>1</th>\n",
       "      <td>80000.0</td>\n",
       "      <td>0.08</td>\n",
       "      <td>Puerto Rico</td>\n",
       "      <td>80000</td>\n",
       "      <td>323</td>\n",
       "    </tr>\n",
       "    <tr>\n",
       "      <th>2</th>\n",
       "      <td>67000.0</td>\n",
       "      <td>0.15</td>\n",
       "      <td>Puerto Rico</td>\n",
       "      <td>67000</td>\n",
       "      <td>607</td>\n",
       "    </tr>\n",
       "    <tr>\n",
       "      <th>3</th>\n",
       "      <td>145000.0</td>\n",
       "      <td>0.10</td>\n",
       "      <td>Puerto Rico</td>\n",
       "      <td>145000</td>\n",
       "      <td>404</td>\n",
       "    </tr>\n",
       "    <tr>\n",
       "      <th>4</th>\n",
       "      <td>65000.0</td>\n",
       "      <td>0.05</td>\n",
       "      <td>Puerto Rico</td>\n",
       "      <td>65000</td>\n",
       "      <td>202</td>\n",
       "    </tr>\n",
       "    <tr>\n",
       "      <th>...</th>\n",
       "      <td>...</td>\n",
       "      <td>...</td>\n",
       "      <td>...</td>\n",
       "      <td>...</td>\n",
       "      <td>...</td>\n",
       "    </tr>\n",
       "    <tr>\n",
       "      <th>2226377</th>\n",
       "      <td>359900.0</td>\n",
       "      <td>0.33</td>\n",
       "      <td>Washington</td>\n",
       "      <td>359900</td>\n",
       "      <td>1335</td>\n",
       "    </tr>\n",
       "    <tr>\n",
       "      <th>2226378</th>\n",
       "      <td>350000.0</td>\n",
       "      <td>0.10</td>\n",
       "      <td>Washington</td>\n",
       "      <td>350000</td>\n",
       "      <td>404</td>\n",
       "    </tr>\n",
       "    <tr>\n",
       "      <th>2226379</th>\n",
       "      <td>440000.0</td>\n",
       "      <td>0.50</td>\n",
       "      <td>Washington</td>\n",
       "      <td>440000</td>\n",
       "      <td>2023</td>\n",
       "    </tr>\n",
       "    <tr>\n",
       "      <th>2226380</th>\n",
       "      <td>179900.0</td>\n",
       "      <td>0.09</td>\n",
       "      <td>Washington</td>\n",
       "      <td>179900</td>\n",
       "      <td>364</td>\n",
       "    </tr>\n",
       "    <tr>\n",
       "      <th>2226381</th>\n",
       "      <td>580000.0</td>\n",
       "      <td>0.31</td>\n",
       "      <td>Washington</td>\n",
       "      <td>580000</td>\n",
       "      <td>1254</td>\n",
       "    </tr>\n",
       "  </tbody>\n",
       "</table>\n",
       "<p>1899699 rows × 5 columns</p>\n",
       "</div>"
      ],
      "text/plain": [
       "            price  acre_lot        state  price_in_USD  area_in_m2\n",
       "0        105000.0      0.12  Puerto Rico        105000         485\n",
       "1         80000.0      0.08  Puerto Rico         80000         323\n",
       "2         67000.0      0.15  Puerto Rico         67000         607\n",
       "3        145000.0      0.10  Puerto Rico        145000         404\n",
       "4         65000.0      0.05  Puerto Rico         65000         202\n",
       "...           ...       ...          ...           ...         ...\n",
       "2226377  359900.0      0.33   Washington        359900        1335\n",
       "2226378  350000.0      0.10   Washington        350000         404\n",
       "2226379  440000.0      0.50   Washington        440000        2023\n",
       "2226380  179900.0      0.09   Washington        179900         364\n",
       "2226381  580000.0      0.31   Washington        580000        1254\n",
       "\n",
       "[1899699 rows x 5 columns]"
      ]
     },
     "execution_count": 21,
     "metadata": {},
     "output_type": "execute_result"
    }
   ],
   "source": [
    "df"
   ]
  },
  {
   "cell_type": "markdown",
   "id": "c26ea504-ef26-4ecd-8bc6-a773089c3008",
   "metadata": {},
   "source": [
    "i can now drop unwanted columns"
   ]
  },
  {
   "cell_type": "code",
   "execution_count": 22,
   "id": "de712872-40c9-4db8-979f-e17b1456a846",
   "metadata": {},
   "outputs": [],
   "source": [
    "df.drop(columns=[\"price\", \"acre_lot\"], inplace=True)"
   ]
  },
  {
   "cell_type": "code",
   "execution_count": 23,
   "id": "70fb9468-d4b4-4f39-8881-ceaf166a0e0f",
   "metadata": {},
   "outputs": [
    {
     "data": {
      "text/html": [
       "<div>\n",
       "<style scoped>\n",
       "    .dataframe tbody tr th:only-of-type {\n",
       "        vertical-align: middle;\n",
       "    }\n",
       "\n",
       "    .dataframe tbody tr th {\n",
       "        vertical-align: top;\n",
       "    }\n",
       "\n",
       "    .dataframe thead th {\n",
       "        text-align: right;\n",
       "    }\n",
       "</style>\n",
       "<table border=\"1\" class=\"dataframe\">\n",
       "  <thead>\n",
       "    <tr style=\"text-align: right;\">\n",
       "      <th></th>\n",
       "      <th>state</th>\n",
       "      <th>price_in_USD</th>\n",
       "      <th>area_in_m2</th>\n",
       "    </tr>\n",
       "  </thead>\n",
       "  <tbody>\n",
       "    <tr>\n",
       "      <th>0</th>\n",
       "      <td>Puerto Rico</td>\n",
       "      <td>105000</td>\n",
       "      <td>485</td>\n",
       "    </tr>\n",
       "    <tr>\n",
       "      <th>1</th>\n",
       "      <td>Puerto Rico</td>\n",
       "      <td>80000</td>\n",
       "      <td>323</td>\n",
       "    </tr>\n",
       "    <tr>\n",
       "      <th>2</th>\n",
       "      <td>Puerto Rico</td>\n",
       "      <td>67000</td>\n",
       "      <td>607</td>\n",
       "    </tr>\n",
       "    <tr>\n",
       "      <th>3</th>\n",
       "      <td>Puerto Rico</td>\n",
       "      <td>145000</td>\n",
       "      <td>404</td>\n",
       "    </tr>\n",
       "    <tr>\n",
       "      <th>4</th>\n",
       "      <td>Puerto Rico</td>\n",
       "      <td>65000</td>\n",
       "      <td>202</td>\n",
       "    </tr>\n",
       "    <tr>\n",
       "      <th>...</th>\n",
       "      <td>...</td>\n",
       "      <td>...</td>\n",
       "      <td>...</td>\n",
       "    </tr>\n",
       "    <tr>\n",
       "      <th>2226377</th>\n",
       "      <td>Washington</td>\n",
       "      <td>359900</td>\n",
       "      <td>1335</td>\n",
       "    </tr>\n",
       "    <tr>\n",
       "      <th>2226378</th>\n",
       "      <td>Washington</td>\n",
       "      <td>350000</td>\n",
       "      <td>404</td>\n",
       "    </tr>\n",
       "    <tr>\n",
       "      <th>2226379</th>\n",
       "      <td>Washington</td>\n",
       "      <td>440000</td>\n",
       "      <td>2023</td>\n",
       "    </tr>\n",
       "    <tr>\n",
       "      <th>2226380</th>\n",
       "      <td>Washington</td>\n",
       "      <td>179900</td>\n",
       "      <td>364</td>\n",
       "    </tr>\n",
       "    <tr>\n",
       "      <th>2226381</th>\n",
       "      <td>Washington</td>\n",
       "      <td>580000</td>\n",
       "      <td>1254</td>\n",
       "    </tr>\n",
       "  </tbody>\n",
       "</table>\n",
       "<p>1899699 rows × 3 columns</p>\n",
       "</div>"
      ],
      "text/plain": [
       "               state  price_in_USD  area_in_m2\n",
       "0        Puerto Rico        105000         485\n",
       "1        Puerto Rico         80000         323\n",
       "2        Puerto Rico         67000         607\n",
       "3        Puerto Rico        145000         404\n",
       "4        Puerto Rico         65000         202\n",
       "...              ...           ...         ...\n",
       "2226377   Washington        359900        1335\n",
       "2226378   Washington        350000         404\n",
       "2226379   Washington        440000        2023\n",
       "2226380   Washington        179900         364\n",
       "2226381   Washington        580000        1254\n",
       "\n",
       "[1899699 rows x 3 columns]"
      ]
     },
     "execution_count": 23,
     "metadata": {},
     "output_type": "execute_result"
    }
   ],
   "source": [
    "df"
   ]
  },
  {
   "cell_type": "markdown",
   "id": "345d75f3-6b70-479e-b970-3119eccd6d5a",
   "metadata": {},
   "source": [
    "Next, i calculate the price for each square meter(m2) and assign it the variable\n",
    "\"price_per_m2\""
   ]
  },
  {
   "cell_type": "code",
   "execution_count": 24,
   "id": "d28152ab-24cc-44f3-955a-8e184ef988e1",
   "metadata": {},
   "outputs": [],
   "source": [
    "df[\"price_per_m2\"] = (df[\"price_in_USD\"] / df[\"area_in_m2\"]).round(0)"
   ]
  },
  {
   "cell_type": "code",
   "execution_count": 25,
   "id": "fffcb973-9ea7-4c36-9ee7-54ea34774103",
   "metadata": {},
   "outputs": [
    {
     "data": {
      "text/html": [
       "<div>\n",
       "<style scoped>\n",
       "    .dataframe tbody tr th:only-of-type {\n",
       "        vertical-align: middle;\n",
       "    }\n",
       "\n",
       "    .dataframe tbody tr th {\n",
       "        vertical-align: top;\n",
       "    }\n",
       "\n",
       "    .dataframe thead th {\n",
       "        text-align: right;\n",
       "    }\n",
       "</style>\n",
       "<table border=\"1\" class=\"dataframe\">\n",
       "  <thead>\n",
       "    <tr style=\"text-align: right;\">\n",
       "      <th></th>\n",
       "      <th>state</th>\n",
       "      <th>price_in_USD</th>\n",
       "      <th>area_in_m2</th>\n",
       "      <th>price_per_m2</th>\n",
       "    </tr>\n",
       "  </thead>\n",
       "  <tbody>\n",
       "    <tr>\n",
       "      <th>0</th>\n",
       "      <td>Puerto Rico</td>\n",
       "      <td>105000</td>\n",
       "      <td>485</td>\n",
       "      <td>216.0</td>\n",
       "    </tr>\n",
       "    <tr>\n",
       "      <th>1</th>\n",
       "      <td>Puerto Rico</td>\n",
       "      <td>80000</td>\n",
       "      <td>323</td>\n",
       "      <td>248.0</td>\n",
       "    </tr>\n",
       "    <tr>\n",
       "      <th>2</th>\n",
       "      <td>Puerto Rico</td>\n",
       "      <td>67000</td>\n",
       "      <td>607</td>\n",
       "      <td>110.0</td>\n",
       "    </tr>\n",
       "    <tr>\n",
       "      <th>3</th>\n",
       "      <td>Puerto Rico</td>\n",
       "      <td>145000</td>\n",
       "      <td>404</td>\n",
       "      <td>359.0</td>\n",
       "    </tr>\n",
       "    <tr>\n",
       "      <th>4</th>\n",
       "      <td>Puerto Rico</td>\n",
       "      <td>65000</td>\n",
       "      <td>202</td>\n",
       "      <td>322.0</td>\n",
       "    </tr>\n",
       "    <tr>\n",
       "      <th>...</th>\n",
       "      <td>...</td>\n",
       "      <td>...</td>\n",
       "      <td>...</td>\n",
       "      <td>...</td>\n",
       "    </tr>\n",
       "    <tr>\n",
       "      <th>2226377</th>\n",
       "      <td>Washington</td>\n",
       "      <td>359900</td>\n",
       "      <td>1335</td>\n",
       "      <td>270.0</td>\n",
       "    </tr>\n",
       "    <tr>\n",
       "      <th>2226378</th>\n",
       "      <td>Washington</td>\n",
       "      <td>350000</td>\n",
       "      <td>404</td>\n",
       "      <td>866.0</td>\n",
       "    </tr>\n",
       "    <tr>\n",
       "      <th>2226379</th>\n",
       "      <td>Washington</td>\n",
       "      <td>440000</td>\n",
       "      <td>2023</td>\n",
       "      <td>217.0</td>\n",
       "    </tr>\n",
       "    <tr>\n",
       "      <th>2226380</th>\n",
       "      <td>Washington</td>\n",
       "      <td>179900</td>\n",
       "      <td>364</td>\n",
       "      <td>494.0</td>\n",
       "    </tr>\n",
       "    <tr>\n",
       "      <th>2226381</th>\n",
       "      <td>Washington</td>\n",
       "      <td>580000</td>\n",
       "      <td>1254</td>\n",
       "      <td>463.0</td>\n",
       "    </tr>\n",
       "  </tbody>\n",
       "</table>\n",
       "<p>1899699 rows × 4 columns</p>\n",
       "</div>"
      ],
      "text/plain": [
       "               state  price_in_USD  area_in_m2  price_per_m2\n",
       "0        Puerto Rico        105000         485         216.0\n",
       "1        Puerto Rico         80000         323         248.0\n",
       "2        Puerto Rico         67000         607         110.0\n",
       "3        Puerto Rico        145000         404         359.0\n",
       "4        Puerto Rico         65000         202         322.0\n",
       "...              ...           ...         ...           ...\n",
       "2226377   Washington        359900        1335         270.0\n",
       "2226378   Washington        350000         404         866.0\n",
       "2226379   Washington        440000        2023         217.0\n",
       "2226380   Washington        179900         364         494.0\n",
       "2226381   Washington        580000        1254         463.0\n",
       "\n",
       "[1899699 rows x 4 columns]"
      ]
     },
     "execution_count": 25,
     "metadata": {},
     "output_type": "execute_result"
    }
   ],
   "source": [
    "df.dropna(how=\"all\")"
   ]
  },
  {
   "cell_type": "code",
   "execution_count": 26,
   "id": "26577479-5295-408e-86b9-d87ae477c205",
   "metadata": {},
   "outputs": [
    {
     "data": {
      "text/plain": [
       "state\n",
       "California              204235\n",
       "Texas                   188751\n",
       "Florida                 186505\n",
       "North Carolina           77504\n",
       "New York                 73870\n",
       "Georgia                  73288\n",
       "Arizona                  69703\n",
       "Pennsylvania             68982\n",
       "Illinois                 62552\n",
       "Virginia                 57698\n",
       "Washington               55833\n",
       "Ohio                     51706\n",
       "Missouri                 41752\n",
       "Minnesota                40307\n",
       "New Jersey               39207\n",
       "Tennessee                38190\n",
       "Maryland                 37783\n",
       "Michigan                 36626\n",
       "South Carolina           34837\n",
       "Oklahoma                 34430\n",
       "Wisconsin                30892\n",
       "Massachusetts            30430\n",
       "Oregon                   27325\n",
       "Colorado                 26745\n",
       "Alabama                  25579\n",
       "Kentucky                 23571\n",
       "Louisiana                22531\n",
       "Arkansas                 21566\n",
       "Iowa                     21029\n",
       "New Mexico               20195\n",
       "Indiana                  17112\n",
       "Idaho                    15913\n",
       "Mississippi              14107\n",
       "Kansas                   14060\n",
       "Nevada                   13175\n",
       "Utah                     13039\n",
       "Connecticut              11511\n",
       "West Virginia            11039\n",
       "Montana                   8907\n",
       "Delaware                  7160\n",
       "Rhode Island              7007\n",
       "Hawaii                    6055\n",
       "Nebraska                  5568\n",
       "Maine                     4885\n",
       "South Dakota              4284\n",
       "North Dakota              3987\n",
       "Wyoming                   3936\n",
       "New Hampshire             3045\n",
       "District of Columbia      2944\n",
       "Alaska                    2482\n",
       "Puerto Rico               2434\n",
       "Vermont                   2276\n",
       "Virgin Islands             809\n",
       "Guam                       341\n",
       "New Brunswick                1\n",
       "Name: count, dtype: int64"
      ]
     },
     "execution_count": 26,
     "metadata": {},
     "output_type": "execute_result"
    }
   ],
   "source": [
    "df[\"state\"].value_counts()"
   ]
  },
  {
   "cell_type": "markdown",
   "id": "ebcd0b96-9ba3-4526-94e7-476acdbe1fb4",
   "metadata": {},
   "source": [
    "satisfying my first objective which is \"state that has the most expensive real estate market\""
   ]
  },
  {
   "cell_type": "code",
   "execution_count": 27,
   "id": "75939bf6-f7a1-46e3-9365-892d1e597ab8",
   "metadata": {},
   "outputs": [
    {
     "data": {
      "image/png": "[encoded data removed]",
      "text/plain": [
       "<Figure size 640x480 with 1 Axes>"
      ]
     },
     "metadata": {},
     "output_type": "display_data"
    }
   ],
   "source": [
    "(\n",
    "    df\n",
    "    .groupby(\"state\")\n",
    "    [\"price_per_m2\"].mean()\n",
    "    .sort_values(ascending=False)\n",
    "    .plot(\n",
    "        kind = \"bar\",\n",
    "        xlabel = \"State\",\n",
    "        ylabel = \"Mean Price Per M2 [USD]\",\n",
    "        title = \"Mean House Price Per M2 by State\"        \n",
    "    )\n",
    ");"
   ]
  },
  {
   "cell_type": "markdown",
   "id": "b6b58b4b-3c5a-4b38-8eed-eabea69446d7",
   "metadata": {},
   "source": [
    "From the bar chart above it can be seen that \"Utah\" has the most expensive real estate market so i will be focusing there."
   ]
  },
  {
   "cell_type": "markdown",
   "id": "caaa36a7-d307-48f9-8be7-6889fef2795c",
   "metadata": {},
   "source": [
    "Another objective that needs to be sartisfied is \"if there is a relationship between home size and price\""
   ]
  },
  {
   "cell_type": "code",
   "execution_count": 28,
   "id": "cb331821-a41b-4997-b97d-7fad6c2fa8a7",
   "metadata": {},
   "outputs": [],
   "source": [
    "#Subset to Utah\n",
    "df_utah = df[df[\"state\"] == \"Utah\"]"
   ]
  },
  {
   "cell_type": "code",
   "execution_count": 29,
   "id": "dab0841b-1b78-4217-8d04-ef5344256d45",
   "metadata": {},
   "outputs": [
    {
     "data": {
      "text/html": [
       "<div>\n",
       "<style scoped>\n",
       "    .dataframe tbody tr th:only-of-type {\n",
       "        vertical-align: middle;\n",
       "    }\n",
       "\n",
       "    .dataframe tbody tr th {\n",
       "        vertical-align: top;\n",
       "    }\n",
       "\n",
       "    .dataframe thead th {\n",
       "        text-align: right;\n",
       "    }\n",
       "</style>\n",
       "<table border=\"1\" class=\"dataframe\">\n",
       "  <thead>\n",
       "    <tr style=\"text-align: right;\">\n",
       "      <th></th>\n",
       "      <th>state</th>\n",
       "      <th>price_in_USD</th>\n",
       "      <th>area_in_m2</th>\n",
       "      <th>price_per_m2</th>\n",
       "    </tr>\n",
       "  </thead>\n",
       "  <tbody>\n",
       "    <tr>\n",
       "      <th>1160935</th>\n",
       "      <td>Utah</td>\n",
       "      <td>249000</td>\n",
       "      <td>20234</td>\n",
       "      <td>12.0</td>\n",
       "    </tr>\n",
       "    <tr>\n",
       "      <th>1161129</th>\n",
       "      <td>Utah</td>\n",
       "      <td>48500</td>\n",
       "      <td>4613</td>\n",
       "      <td>11.0</td>\n",
       "    </tr>\n",
       "    <tr>\n",
       "      <th>1161132</th>\n",
       "      <td>Utah</td>\n",
       "      <td>48500</td>\n",
       "      <td>4451</td>\n",
       "      <td>11.0</td>\n",
       "    </tr>\n",
       "    <tr>\n",
       "      <th>1161133</th>\n",
       "      <td>Utah</td>\n",
       "      <td>48500</td>\n",
       "      <td>4046</td>\n",
       "      <td>12.0</td>\n",
       "    </tr>\n",
       "    <tr>\n",
       "      <th>1161134</th>\n",
       "      <td>Utah</td>\n",
       "      <td>48500</td>\n",
       "      <td>4087</td>\n",
       "      <td>12.0</td>\n",
       "    </tr>\n",
       "  </tbody>\n",
       "</table>\n",
       "</div>"
      ],
      "text/plain": [
       "        state  price_in_USD  area_in_m2  price_per_m2\n",
       "1160935  Utah        249000       20234          12.0\n",
       "1161129  Utah         48500        4613          11.0\n",
       "1161132  Utah         48500        4451          11.0\n",
       "1161133  Utah         48500        4046          12.0\n",
       "1161134  Utah         48500        4087          12.0"
      ]
     },
     "execution_count": 29,
     "metadata": {},
     "output_type": "execute_result"
    }
   ],
   "source": [
    "df_utah.head()"
   ]
  },
  {
   "cell_type": "code",
   "execution_count": 30,
   "id": "a1a283e1-c095-43a1-b6b8-0594c4993d41",
   "metadata": {},
   "outputs": [
    {
     "data": {
      "image/png": "[encoded data removed]",
      "text/plain": [
       "<Figure size 640x480 with 1 Axes>"
      ]
     },
     "metadata": {},
     "output_type": "display_data"
    }
   ],
   "source": [
    "plt.scatter(x = df_utah[\"area_in_m2\"], y = df_utah[\"price_in_USD\"])\n",
    "plt.xlabel(\"Area [M2]\")\n",
    "plt.ylabel(\"Price [USD\")\n",
    "plt.title(\"Utah: Price VS Area\");"
   ]
  },
  {
   "cell_type": "code",
   "execution_count": 31,
   "id": "f6bd73c9-dc88-456b-8c6a-4bf48ecba765",
   "metadata": {},
   "outputs": [
    {
     "name": "stdout",
     "output_type": "stream",
     "text": [
      "0.1999765734521043\n"
     ]
    }
   ],
   "source": [
    "P_correlation = df_utah[\"area_in_m2\"].corr(df_utah[\"price_in_USD\"])\n",
    "print(P_correlation)"
   ]
  },
  {
   "cell_type": "markdown",
   "id": "3090dadf-f1ba-447c-a34f-f796d9ac3b5a",
   "metadata": {},
   "source": [
    "The result above shows a positive correlation. this means that there is a relationship\n",
    "between home size and price"
   ]
  },
  {
   "cell_type": "code",
   "execution_count": 32,
   "id": "ef479862-5beb-43a9-8337-c12fef54b189",
   "metadata": {},
   "outputs": [],
   "source": [
    "#Subseting a different Location\n",
    "df_hawaii = df[df[\"state\"] == \"Hawaii\"]"
   ]
  },
  {
   "cell_type": "code",
   "execution_count": 33,
   "id": "b1693fc4-e929-4d37-a6d5-a817d9ad51ac",
   "metadata": {},
   "outputs": [
    {
     "data": {
      "text/html": [
       "<div>\n",
       "<style scoped>\n",
       "    .dataframe tbody tr th:only-of-type {\n",
       "        vertical-align: middle;\n",
       "    }\n",
       "\n",
       "    .dataframe tbody tr th {\n",
       "        vertical-align: top;\n",
       "    }\n",
       "\n",
       "    .dataframe thead th {\n",
       "        text-align: right;\n",
       "    }\n",
       "</style>\n",
       "<table border=\"1\" class=\"dataframe\">\n",
       "  <thead>\n",
       "    <tr style=\"text-align: right;\">\n",
       "      <th></th>\n",
       "      <th>state</th>\n",
       "      <th>price_in_USD</th>\n",
       "      <th>area_in_m2</th>\n",
       "      <th>price_per_m2</th>\n",
       "    </tr>\n",
       "  </thead>\n",
       "  <tbody>\n",
       "    <tr>\n",
       "      <th>1359096</th>\n",
       "      <td>Hawaii</td>\n",
       "      <td>365000</td>\n",
       "      <td>6839</td>\n",
       "      <td>53.0</td>\n",
       "    </tr>\n",
       "    <tr>\n",
       "      <th>1359097</th>\n",
       "      <td>Hawaii</td>\n",
       "      <td>279000</td>\n",
       "      <td>4653</td>\n",
       "      <td>60.0</td>\n",
       "    </tr>\n",
       "    <tr>\n",
       "      <th>1359099</th>\n",
       "      <td>Hawaii</td>\n",
       "      <td>298000</td>\n",
       "      <td>7648</td>\n",
       "      <td>39.0</td>\n",
       "    </tr>\n",
       "    <tr>\n",
       "      <th>1359100</th>\n",
       "      <td>Hawaii</td>\n",
       "      <td>305000</td>\n",
       "      <td>33993</td>\n",
       "      <td>9.0</td>\n",
       "    </tr>\n",
       "    <tr>\n",
       "      <th>1359101</th>\n",
       "      <td>Hawaii</td>\n",
       "      <td>495000</td>\n",
       "      <td>21691</td>\n",
       "      <td>23.0</td>\n",
       "    </tr>\n",
       "  </tbody>\n",
       "</table>\n",
       "</div>"
      ],
      "text/plain": [
       "          state  price_in_USD  area_in_m2  price_per_m2\n",
       "1359096  Hawaii        365000        6839          53.0\n",
       "1359097  Hawaii        279000        4653          60.0\n",
       "1359099  Hawaii        298000        7648          39.0\n",
       "1359100  Hawaii        305000       33993           9.0\n",
       "1359101  Hawaii        495000       21691          23.0"
      ]
     },
     "execution_count": 33,
     "metadata": {},
     "output_type": "execute_result"
    }
   ],
   "source": [
    "df_hawaii.head()"
   ]
  },
  {
   "cell_type": "code",
   "execution_count": 34,
   "id": "cfbcf4f1-e87b-4a35-8993-7425bc415be4",
   "metadata": {},
   "outputs": [
    {
     "data": {
      "image/png": "[encoded data removed]",
      "text/plain": [
       "<Figure size 640x480 with 1 Axes>"
      ]
     },
     "metadata": {},
     "output_type": "display_data"
    }
   ],
   "source": [
    "plt.scatter(x = df_hawaii[\"area_in_m2\"], y = df_hawaii[\"price_in_USD\"])\n",
    "plt.xlabel(\"Area [M2]\")\n",
    "plt.ylabel(\"Price [USD\")\n",
    "plt.title(\"HAWAII: Price VS Area\");"
   ]
  },
  {
   "cell_type": "code",
   "execution_count": 35,
   "id": "887c2e90-05a9-47be-9895-c3c4728756ae",
   "metadata": {},
   "outputs": [
    {
     "name": "stdout",
     "output_type": "stream",
     "text": [
      "0.1959398027602372\n"
     ]
    }
   ],
   "source": [
    "P_correlation = df_hawaii[\"area_in_m2\"].corr(df_hawaii[\"price_in_USD\"])\n",
    "print(P_correlation)"
   ]
  },
  {
   "cell_type": "markdown",
   "id": "d53af3ea-93d7-4d5f-b781-23ef3a8aef06",
   "metadata": {},
   "source": [
    "Conclusion:\n",
    "in conclusion, from the previous diagram it can be seen that there is a weak positive correlation between \"home size\" and \"price\" this simply means that even though the size of the home is part of the factors that determine the price of the home, there are other factors that are also considered when \n",
    "determining the price of a home.\n",
    "Also it can be said that both property size and location influence sales price and that \"Utah\" has the most expensive real estate market."
   ]
  }
 ],
 "metadata": {
  "kernelspec": {
   "display_name": "Python 3 (ipykernel)",
   "language": "python",
   "name": "python3"
  },
  "language_info": {
   "codemirror_mode": {
    "name": "ipython",
    "version": 3
   },
   "file_extension": ".py",
   "mimetype": "text/x-python",
   "name": "python",
   "nbconvert_exporter": "python",
   "pygments_lexer": "ipython3",
   "version": "3.12.3"
  }
 },
 "nbformat": 4,
 "nbformat_minor": 5
}
